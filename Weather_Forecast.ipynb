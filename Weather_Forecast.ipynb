{
  "nbformat": 4,
  "nbformat_minor": 0,
  "metadata": {
    "colab": {
      "provenance": [],
      "authorship_tag": "ABX9TyMZhbU+7kF/6OueSyIOXvQz",
      "include_colab_link": true
    },
    "kernelspec": {
      "name": "python3",
      "display_name": "Python 3"
    },
    "language_info": {
      "name": "python"
    }
  },
  "cells": [
    {
      "cell_type": "markdown",
      "metadata": {
        "id": "view-in-github",
        "colab_type": "text"
      },
      "source": [
        "<a href=\"https://colab.research.google.com/github/JaniKhushi17/AgriGuide/blob/main/Weather_Forecast.ipynb\" target=\"_parent\"><img src=\"https://colab.research.google.com/assets/colab-badge.svg\" alt=\"Open In Colab\"/></a>"
      ]
    },
    {
      "cell_type": "code",
      "source": [
        "!gdown 1KMjvkHLNqx28Dj_p9RcCnmalpdX5dNiY"
      ],
      "metadata": {
        "colab": {
          "base_uri": "https://localhost:8080/"
        },
        "id": "aFs-UG21up03",
        "outputId": "94607edd-5091-49c2-dd6e-ee3ce1eebc64"
      },
      "execution_count": 2,
      "outputs": [
        {
          "output_type": "stream",
          "name": "stdout",
          "text": [
            "Downloading...\n",
            "From: https://drive.google.com/uc?id=1KMjvkHLNqx28Dj_p9RcCnmalpdX5dNiY\n",
            "To: /content/weather.csv\n",
            "\r  0% 0.00/12.5k [00:00<?, ?B/s]\r100% 12.5k/12.5k [00:00<00:00, 53.8MB/s]\n"
          ]
        }
      ]
    },
    {
      "cell_type": "markdown",
      "source": [],
      "metadata": {
        "id": "qFv47KonupYT"
      }
    },
    {
      "cell_type": "markdown",
      "source": [
        "**section-1 Importing libraries**"
      ],
      "metadata": {
        "id": "Ml4PwPqBsbXY"
      }
    },
    {
      "cell_type": "code",
      "execution_count": 3,
      "metadata": {
        "id": "IHabt3nCptLO"
      },
      "outputs": [],
      "source": [
        "import requests  #This library helps us to fetch data from API\n",
        "import pandas as pd #for handling and analysing data\n",
        "import numpy as np #for numerical operations\n",
        "from sklearn.model_selection import train_test_split #to split data into training and testing\n",
        "from sklearn.preprocessing import LabelEncoder #to convert categorical data into numerical values\n",
        "from sklearn.ensemble import RandomForestClassifier, RandomForestRegressor #models for classification and regression tasks\n",
        "from sklearn.metrics import mean_squared_error #to measure the accuracy of our prediction\n",
        "from datetime import datetime, timedelta #to handle date and time\n",
        "import pytz"
      ]
    },
    {
      "cell_type": "code",
      "source": [
        "API_KEY = 'bf7f76bd7ef2bc0f387332ce4b1ee25d' #replace with your actual API key\n",
        "BASE_URL = 'https://api.openweathermap.org/data/2.5/' #base url for making API requests"
      ],
      "metadata": {
        "id": "5TDQcm1gtaeb"
      },
      "execution_count": 4,
      "outputs": []
    },
    {
      "cell_type": "code",
      "source": [],
      "metadata": {
        "id": "KEWSEYOMtzQe"
      },
      "execution_count": 4,
      "outputs": []
    },
    {
      "cell_type": "markdown",
      "source": [
        "**1. Fetch current weather data**"
      ],
      "metadata": {
        "id": "VnpoOP9UyZgf"
      }
    },
    {
      "cell_type": "code",
      "source": [
        "def get_current_weather(city):\n",
        "  url = f\"{BASE_URL}weather?q={city}&appid={API_KEY}&units=metric\" #construct the API requests URL\n",
        "  response = requests.get(url)\n",
        "  data = response.json()\n",
        "  return {\n",
        "      'city': data['name'],\n",
        "      'current_temp': round(data['main']['temp']),\n",
        "      'feels_like' : round(data['main']['feels_like']),\n",
        "      'temp_min' : round(data['main']['temp_min']),\n",
        "      'temp_max' : round(data['main']['temp_max']),\n",
        "      'humidity' : round(data['main']['humidity']),\n",
        "      'description' : data['weather'][0]['description'],\n",
        "      'country' : data['sys']['country'],\n",
        "      'wind_gust_dir' : data['wind']['deg'],\n",
        "      'pressure' : data['main']['pressure'],\n",
        "      'Wind_Gust_Speed' : data['wind']['speed']\n",
        "  }"
      ],
      "metadata": {
        "id": "vR_n0k28yY9l"
      },
      "execution_count": 5,
      "outputs": []
    },
    {
      "cell_type": "markdown",
      "source": [
        "**2. Read Historical data**"
      ],
      "metadata": {
        "id": "zgZfrbSM09di"
      }
    },
    {
      "cell_type": "code",
      "source": [
        "filename = 'weather.csv'\n",
        "def read_historical_data(filename):\n",
        "  df = pd.read_csv(filename) #load xlsx file into dataframe\n",
        "  df = df.dropna() #remove rows with missing values\n",
        "  df = df.drop_duplicates()\n",
        "  return df"
      ],
      "metadata": {
        "id": "4ZvnAxd108mE"
      },
      "execution_count": 6,
      "outputs": []
    },
    {
      "cell_type": "markdown",
      "source": [
        "**3. Prepare data for training**"
      ],
      "metadata": {
        "id": "e6GKZBWR9GNC"
      }
    },
    {
      "cell_type": "code",
      "source": [
        "def prepare_date(data):\n",
        "  le = LabelEncoder() #creates a labelEncoder instance\n",
        "  data['WindGustDir'] = le.fit_transform(data['WindGustDir'])\n",
        "  data['RainTomorrow'] = le.fit_transform(data['RainTomorrow'])\n",
        "\n",
        "  #define feature variable and target variables\n",
        "  X = data[['MinTemp','MaxTemp','WindGustDir','WindGustSpeed','Humidity','Pressure','Temp']]  #define variables\n",
        "  y = data['RainTomorrow'] #target variable\n",
        "\n",
        "  return X, y, le #return feature variable, target variable and the label encoder"
      ],
      "metadata": {
        "id": "Pz4QkA849F1y"
      },
      "execution_count": 7,
      "outputs": []
    },
    {
      "cell_type": "markdown",
      "source": [
        "**4. Train Rain Prediction Model**"
      ],
      "metadata": {
        "id": "XNj8ztrVFZh4"
      }
    },
    {
      "cell_type": "code",
      "source": [
        "def train_rain_model(X,y):\n",
        "  X_train, X_test, y_train, y_test = train_test_split(X,y,test_size=0.2, random_state=42)\n",
        "  model = RandomForestClassifier(n_estimators=100, random_state=42)\n",
        "  model.fit(X_train, y_train) #train the model\n",
        "\n",
        "  y_pred = model.predict(X_test)#to make the prediction on test set\n",
        "\n",
        "  print(\"Mean Squared Error for Rain Model\")\n",
        "\n",
        "  print(mean_squared_error(y_test,y_pred))\n",
        "\n",
        "  return model"
      ],
      "metadata": {
        "id": "X83NhtVG8M8R"
      },
      "execution_count": 8,
      "outputs": []
    },
    {
      "cell_type": "markdown",
      "source": [
        "**5. Prepare regression data**"
      ],
      "metadata": {
        "id": "D8lDvOPjGahe"
      }
    },
    {
      "cell_type": "code",
      "source": [
        "def prepare_regression_data(data,feature):\n",
        "  X,y = [],[] #initialize list for feature and target values\n",
        "\n",
        "  for i in range(len(data)-1):\n",
        "    X.append(data[feature].iloc[i])\n",
        "\n",
        "    y.append(data[feature].iloc[i+1])\n",
        "\n",
        "  X = np.array(X).reshape(-1,1)\n",
        "  y = np.array(y)\n",
        "\n",
        "  return X,y"
      ],
      "metadata": {
        "id": "L2Qwx9KjGgao"
      },
      "execution_count": 9,
      "outputs": []
    },
    {
      "cell_type": "markdown",
      "source": [
        "**6. Train Regression Model**"
      ],
      "metadata": {
        "id": "l73xKcf4HtTu"
      }
    },
    {
      "cell_type": "code",
      "source": [
        "def train_regression_model(X,y):\n",
        "  model = RandomForestRegressor(n_estimators=100, random_state=42)\n",
        "  model.fit(X,y)\n",
        "  return model"
      ],
      "metadata": {
        "id": "QSh5uYzbHw_s"
      },
      "execution_count": 10,
      "outputs": []
    },
    {
      "cell_type": "markdown",
      "source": [
        "**7. Predict Future**"
      ],
      "metadata": {
        "id": "rF2maDnBIFmF"
      }
    },
    {
      "cell_type": "code",
      "source": [
        "def predict_future(model, current_value):\n",
        "  predictions = [current_value]\n",
        "\n",
        "  for i in range(5):\n",
        "    next_value = model.predict(np.array([[predictions[-1]]]))\n",
        "\n",
        "    predictions.append(next_value[0])\n",
        "\n",
        "  return predictions[1:]"
      ],
      "metadata": {
        "id": "oCoc6jW0II-l"
      },
      "execution_count": 11,
      "outputs": []
    },
    {
      "cell_type": "markdown",
      "source": [
        "**Weather Analysis Function**"
      ],
      "metadata": {
        "id": "HeowEOYUI_Qt"
      }
    },
    {
      "cell_type": "code",
      "source": [
        "def weather_view():\n",
        "  city = input(\"Enter any city name:\")\n",
        "  current_weather = get_current_weather(city)\n",
        "\n",
        "  # Load historical data\n",
        "  historical_data = read_historical_data('/content/weather.csv')\n",
        "\n",
        "  #prepare and train the rain prediction model\n",
        "  X,y,le = prepare_date(historical_data)\n",
        "\n",
        "  rain_model = train_rain_model(X,y)\n",
        "\n",
        "  # map wind direction to compass points\n",
        "  wind_deg = current_weather['wind_gust_dir'] % 360\n",
        "  compass_points = [\n",
        "      (\"N\",0,11.25), (\"NNE\",11.25,33.75), (\"NE\",33.75,56.25),\n",
        "      (\"ENE\",56.25,78.75), (\"E\",78.75,101.25), (\"ESE\",101.25,123.75),\n",
        "      (\"SE\",123.75,146.25), (\"SSE\",146.25,168.75), (\"S\",168.75,191.25),\n",
        "      (\"SSW\",191.25,213.75), (\"SW\",213.75,236.25), (\"WSW\",236.25,258.75),\n",
        "      (\"W\",258.75,281.25), (\"WNW\",281.25,303.75), (\"NW\",303.75,326.25),\n",
        "      (\"NNW\",326.25,348.75)\n",
        "  ]\n",
        "\n",
        "  compass_direction = next(point for point, start, end in compass_points if start <= wind_deg <end)\n",
        "\n",
        "  compass_direction_encoded = le.transform([compass_direction])[0] if compass_direction in le.classes_ else -1\n",
        "\n",
        "  current_data = {\n",
        "      'MinTemp' : current_weather['temp_min'],\n",
        "      'MaxTemp' : current_weather['temp_max'],\n",
        "      'WindGustDir' : compass_direction_encoded,\n",
        "      'WindGustSpeed' :current_weather['Wind_Gust_Speed'],\n",
        "      'Humidity' : current_weather['humidity'],\n",
        "      'Pressure' : current_weather['pressure'],\n",
        "      'Temp' : current_weather['current_temp'],\n",
        "  }\n",
        "\n",
        "  current_df = pd.DataFrame([current_data])\n",
        "\n",
        "  #rain prediction\n",
        "\n",
        "  rain_prediction = rain_model.predict(current_df)[0]\n",
        "\n",
        "  #prepare regression model for humidity and temperature\n",
        "\n",
        "  X_temp, y_temp = prepare_regression_data(historical_data,'Temp')\n",
        "\n",
        "  X_hum, y_hum = prepare_regression_data(historical_data,'Humidity')\n",
        "\n",
        "  temp_model = train_regression_model(X_temp, y_temp)\n",
        "\n",
        "  hum_model = train_regression_model(X_hum, y_hum)\n",
        "\n",
        "  #predict future temperature and humidity\n",
        "\n",
        "  future_temp = predict_future(temp_model,current_weather['temp_min'])\n",
        "\n",
        "  future_hum = predict_future(hum_model,current_weather['humidity'])\n",
        "\n",
        "  #prepare time for future predictions\n",
        "  timezone = pytz.timezone('Asia/Kolkata')\n",
        "\n",
        "  now = datetime.now(timezone)\n",
        "  next_hour = now+timedelta(hours=1)\n",
        "  next_hour = next_hour.replace(minute=0, second=0, microsecond=0)\n",
        "\n",
        "  future_times = [(next_hour+timedelta(hours=i)).strftime(\"%H:00\") for i in range(5)]\n",
        "\n",
        "  #Display the results\n",
        "  print(f\"City:{city},{current_weather['country']}\")\n",
        "  print(f\"Current TEmperature:{current_weather['current_temp']}\")\n",
        "  print(f\"feels Like:{current_weather['feels_like']}\")\n",
        "  print(f\"Minimum Temperature:{current_weather['temp_min']}\")\n",
        "  print(f\"Maximum Temperature:{current_weather['temp_max']}\")\n",
        "  print(f\"Humidity:{current_weather['humidity']}%\")\n",
        "  print(f\"Weather Prediction:{current_weather['description']}\")\n",
        "  print(f\"Rain Prediction:{'Yes' if rain_prediction else 'No'}\")\n",
        "\n",
        "  print(\"\\nFuture Temperature Predictions:\")\n",
        "\n",
        "  for time, temp in zip(future_times, future_temp):\n",
        "    print(f\"{time}:{round(temp,1)}\")\n",
        "\n",
        "  print(\"\\nFuture Humidity Predictions:\")\n",
        "\n",
        "  for time, humidity in zip(future_times, future_hum):\n",
        "    print(f\"{time}:{round(humidity,1)}%\")\n",
        "\n",
        "weather_view()\n"
      ],
      "metadata": {
        "id": "62r67xviJFmW",
        "colab": {
          "base_uri": "https://localhost:8080/"
        },
        "outputId": "bd1d28f5-1c50-4370-fbb1-fa616036f4e1"
      },
      "execution_count": 12,
      "outputs": [
        {
          "output_type": "stream",
          "name": "stdout",
          "text": [
            "Enter any city name:Ahmedabad\n",
            "Mean Squared Error for Rain Model\n",
            "0.1506849315068493\n",
            "City:Ahmedabad,IN\n",
            "Current TEmperature:28\n",
            "feels Like:32\n",
            "Minimum Temperature:28\n",
            "Maximum Temperature:28\n",
            "Humidity:75%\n",
            "Weather Prediction:scattered clouds\n",
            "Rain Prediction:Yes\n",
            "\n",
            "Future Temperature Predictions:\n",
            "23:00:27.7\n",
            "00:00:22.8\n",
            "01:00:25.4\n",
            "02:00:24.7\n",
            "03:00:23.4\n",
            "\n",
            "Future Humidity Predictions:\n",
            "23:00:46.1%\n",
            "00:00:48.2%\n",
            "01:00:53.7%\n",
            "02:00:58.1%\n",
            "03:00:54.2%\n"
          ]
        }
      ]
    },
    {
      "cell_type": "code",
      "source": [],
      "metadata": {
        "id": "xV4kVJdnw8xk"
      },
      "execution_count": 12,
      "outputs": []
    }
  ]
}